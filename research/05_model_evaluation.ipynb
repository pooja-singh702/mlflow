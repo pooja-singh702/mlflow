{
 "cells": [
  {
   "cell_type": "code",
   "execution_count": 1,
   "metadata": {},
   "outputs": [
    {
     "data": {
      "text/plain": [
       "'d:\\\\MLOP_Project_new\\\\research'"
      ]
     },
     "execution_count": 1,
     "metadata": {},
     "output_type": "execute_result"
    }
   ],
   "source": [
    "import os\n",
    "%pwd"
   ]
  },
  {
   "cell_type": "code",
   "execution_count": 2,
   "metadata": {},
   "outputs": [],
   "source": [
    "os.chdir(\"../\")"
   ]
  },
  {
   "cell_type": "code",
   "execution_count": 3,
   "metadata": {},
   "outputs": [
    {
     "data": {
      "text/plain": [
       "'d:\\\\MLOP_Project_new'"
      ]
     },
     "execution_count": 3,
     "metadata": {},
     "output_type": "execute_result"
    }
   ],
   "source": [
    "%pwd"
   ]
  },
  {
   "cell_type": "code",
   "execution_count": 4,
   "metadata": {},
   "outputs": [
    {
     "name": "stdout",
     "output_type": "stream",
     "text": [
      "Requirement already satisfied: mlflow in d:\\mlop_project_new\\venv\\lib\\site-packages (2.2.2)Note: you may need to restart the kernel to use updated packages.\n",
      "\n",
      "Requirement already satisfied: click<9,>=7.0 in d:\\mlop_project_new\\venv\\lib\\site-packages (from mlflow) (8.1.7)\n",
      "Requirement already satisfied: cloudpickle<3 in d:\\mlop_project_new\\venv\\lib\\site-packages (from mlflow) (2.2.1)\n",
      "Requirement already satisfied: databricks-cli<1,>=0.8.7 in d:\\mlop_project_new\\venv\\lib\\site-packages (from mlflow) (0.18.0)\n",
      "Requirement already satisfied: entrypoints<1 in d:\\mlop_project_new\\venv\\lib\\site-packages (from mlflow) (0.4)\n",
      "Requirement already satisfied: gitpython<4,>=2.1.0 in d:\\mlop_project_new\\venv\\lib\\site-packages (from mlflow) (3.1.43)\n",
      "Requirement already satisfied: pyyaml<7,>=5.1 in d:\\mlop_project_new\\venv\\lib\\site-packages (from mlflow) (6.0.2)\n",
      "Requirement already satisfied: protobuf<5,>=3.12.0 in d:\\mlop_project_new\\venv\\lib\\site-packages (from mlflow) (4.25.5)\n",
      "Requirement already satisfied: pytz<2023 in d:\\mlop_project_new\\venv\\lib\\site-packages (from mlflow) (2022.7.1)\n",
      "Requirement already satisfied: requests<3,>=2.17.3 in d:\\mlop_project_new\\venv\\lib\\site-packages (from mlflow) (2.32.3)\n",
      "Requirement already satisfied: packaging<24 in d:\\mlop_project_new\\venv\\lib\\site-packages (from mlflow) (23.2)\n",
      "Requirement already satisfied: importlib-metadata!=4.7.0,<7,>=3.7.0 in d:\\mlop_project_new\\venv\\lib\\site-packages (from mlflow) (6.11.0)\n",
      "Requirement already satisfied: sqlparse<1,>=0.4.0 in d:\\mlop_project_new\\venv\\lib\\site-packages (from mlflow) (0.5.1)\n",
      "Requirement already satisfied: alembic<2 in d:\\mlop_project_new\\venv\\lib\\site-packages (from mlflow) (1.13.3)\n",
      "Requirement already satisfied: docker<7,>=4.0.0 in d:\\mlop_project_new\\venv\\lib\\site-packages (from mlflow) (6.1.3)\n",
      "Requirement already satisfied: Flask<3 in d:\\mlop_project_new\\venv\\lib\\site-packages (from mlflow) (2.3.3)\n",
      "Requirement already satisfied: numpy<2 in d:\\mlop_project_new\\venv\\lib\\site-packages (from mlflow) (1.24.4)\n",
      "Requirement already satisfied: scipy<2 in d:\\mlop_project_new\\venv\\lib\\site-packages (from mlflow) (1.10.1)\n",
      "Requirement already satisfied: pandas<3 in d:\\mlop_project_new\\venv\\lib\\site-packages (from mlflow) (2.0.3)\n",
      "Requirement already satisfied: querystring-parser<2 in d:\\mlop_project_new\\venv\\lib\\site-packages (from mlflow) (1.2.4)\n",
      "Requirement already satisfied: sqlalchemy<3,>=1.4.0 in d:\\mlop_project_new\\venv\\lib\\site-packages (from mlflow) (2.0.36)\n",
      "Requirement already satisfied: scikit-learn<2 in d:\\mlop_project_new\\venv\\lib\\site-packages (from mlflow) (1.3.2)\n",
      "Requirement already satisfied: pyarrow<12,>=4.0.0 in d:\\mlop_project_new\\venv\\lib\\site-packages (from mlflow) (11.0.0)\n",
      "Requirement already satisfied: shap<1,>=0.40 in d:\\mlop_project_new\\venv\\lib\\site-packages (from mlflow) (0.44.1)\n",
      "Requirement already satisfied: markdown<4,>=3.3 in d:\\mlop_project_new\\venv\\lib\\site-packages (from mlflow) (3.7)\n",
      "Requirement already satisfied: matplotlib<4 in d:\\mlop_project_new\\venv\\lib\\site-packages (from mlflow) (3.7.5)\n",
      "Requirement already satisfied: waitress<3 in d:\\mlop_project_new\\venv\\lib\\site-packages (from mlflow) (2.1.2)\n",
      "Requirement already satisfied: Jinja2<4,>=3.0 in d:\\mlop_project_new\\venv\\lib\\site-packages (from mlflow) (3.1.4)\n",
      "Requirement already satisfied: Mako in d:\\mlop_project_new\\venv\\lib\\site-packages (from alembic<2->mlflow) (1.3.6)\n",
      "Requirement already satisfied: typing-extensions>=4 in d:\\mlop_project_new\\venv\\lib\\site-packages (from alembic<2->mlflow) (4.12.2)\n",
      "Requirement already satisfied: importlib-resources in d:\\mlop_project_new\\venv\\lib\\site-packages (from alembic<2->mlflow) (6.4.5)\n",
      "Requirement already satisfied: colorama in d:\\mlop_project_new\\venv\\lib\\site-packages (from click<9,>=7.0->mlflow) (0.4.6)\n",
      "Requirement already satisfied: pyjwt>=1.7.0 in d:\\mlop_project_new\\venv\\lib\\site-packages (from databricks-cli<1,>=0.8.7->mlflow) (2.9.0)\n",
      "Requirement already satisfied: oauthlib>=3.1.0 in d:\\mlop_project_new\\venv\\lib\\site-packages (from databricks-cli<1,>=0.8.7->mlflow) (3.2.2)\n",
      "Requirement already satisfied: tabulate>=0.7.7 in d:\\mlop_project_new\\venv\\lib\\site-packages (from databricks-cli<1,>=0.8.7->mlflow) (0.9.0)\n",
      "Requirement already satisfied: six>=1.10.0 in d:\\mlop_project_new\\venv\\lib\\site-packages (from databricks-cli<1,>=0.8.7->mlflow) (1.16.0)\n",
      "Requirement already satisfied: urllib3<3,>=1.26.7 in d:\\mlop_project_new\\venv\\lib\\site-packages (from databricks-cli<1,>=0.8.7->mlflow) (2.2.3)\n",
      "Requirement already satisfied: websocket-client>=0.32.0 in d:\\mlop_project_new\\venv\\lib\\site-packages (from docker<7,>=4.0.0->mlflow) (1.8.0)\n",
      "Requirement already satisfied: pywin32>=304 in d:\\mlop_project_new\\venv\\lib\\site-packages (from docker<7,>=4.0.0->mlflow) (308)\n",
      "Requirement already satisfied: Werkzeug>=2.3.7 in d:\\mlop_project_new\\venv\\lib\\site-packages (from Flask<3->mlflow) (3.0.4)\n",
      "Requirement already satisfied: itsdangerous>=2.1.2 in d:\\mlop_project_new\\venv\\lib\\site-packages (from Flask<3->mlflow) (2.2.0)\n",
      "Requirement already satisfied: blinker>=1.6.2 in d:\\mlop_project_new\\venv\\lib\\site-packages (from Flask<3->mlflow) (1.8.2)\n",
      "Requirement already satisfied: gitdb<5,>=4.0.1 in d:\\mlop_project_new\\venv\\lib\\site-packages (from gitpython<4,>=2.1.0->mlflow) (4.0.11)\n",
      "Requirement already satisfied: zipp>=0.5 in d:\\mlop_project_new\\venv\\lib\\site-packages (from importlib-metadata!=4.7.0,<7,>=3.7.0->mlflow) (3.20.2)\n",
      "Requirement already satisfied: MarkupSafe>=2.0 in d:\\mlop_project_new\\venv\\lib\\site-packages (from Jinja2<4,>=3.0->mlflow) (2.1.5)\n",
      "Requirement already satisfied: contourpy>=1.0.1 in d:\\mlop_project_new\\venv\\lib\\site-packages (from matplotlib<4->mlflow) (1.1.1)\n",
      "Requirement already satisfied: cycler>=0.10 in d:\\mlop_project_new\\venv\\lib\\site-packages (from matplotlib<4->mlflow) (0.12.1)\n",
      "Requirement already satisfied: fonttools>=4.22.0 in d:\\mlop_project_new\\venv\\lib\\site-packages (from matplotlib<4->mlflow) (4.54.1)\n",
      "Requirement already satisfied: kiwisolver>=1.0.1 in d:\\mlop_project_new\\venv\\lib\\site-packages (from matplotlib<4->mlflow) (1.4.7)\n",
      "Requirement already satisfied: pillow>=6.2.0 in d:\\mlop_project_new\\venv\\lib\\site-packages (from matplotlib<4->mlflow) (10.4.0)\n",
      "Requirement already satisfied: pyparsing>=2.3.1 in d:\\mlop_project_new\\venv\\lib\\site-packages (from matplotlib<4->mlflow) (3.1.4)\n",
      "Requirement already satisfied: python-dateutil>=2.7 in d:\\mlop_project_new\\venv\\lib\\site-packages (from matplotlib<4->mlflow) (2.9.0.post0)\n",
      "Requirement already satisfied: tzdata>=2022.1 in d:\\mlop_project_new\\venv\\lib\\site-packages (from pandas<3->mlflow) (2024.2)\n",
      "Requirement already satisfied: charset-normalizer<4,>=2 in d:\\mlop_project_new\\venv\\lib\\site-packages (from requests<3,>=2.17.3->mlflow) (3.4.0)\n",
      "Requirement already satisfied: idna<4,>=2.5 in d:\\mlop_project_new\\venv\\lib\\site-packages (from requests<3,>=2.17.3->mlflow) (3.10)\n",
      "Requirement already satisfied: certifi>=2017.4.17 in d:\\mlop_project_new\\venv\\lib\\site-packages (from requests<3,>=2.17.3->mlflow) (2024.8.30)\n",
      "Requirement already satisfied: joblib>=1.1.1 in d:\\mlop_project_new\\venv\\lib\\site-packages (from scikit-learn<2->mlflow) (1.4.2)\n",
      "Requirement already satisfied: threadpoolctl>=2.0.0 in d:\\mlop_project_new\\venv\\lib\\site-packages (from scikit-learn<2->mlflow) (3.5.0)\n",
      "Requirement already satisfied: tqdm>=4.27.0 in d:\\mlop_project_new\\venv\\lib\\site-packages (from shap<1,>=0.40->mlflow) (4.66.5)\n",
      "Requirement already satisfied: slicer==0.0.7 in d:\\mlop_project_new\\venv\\lib\\site-packages (from shap<1,>=0.40->mlflow) (0.0.7)\n",
      "Requirement already satisfied: numba in d:\\mlop_project_new\\venv\\lib\\site-packages (from shap<1,>=0.40->mlflow) (0.58.1)\n",
      "Requirement already satisfied: greenlet!=0.4.17 in d:\\mlop_project_new\\venv\\lib\\site-packages (from sqlalchemy<3,>=1.4.0->mlflow) (3.1.1)\n",
      "Requirement already satisfied: smmap<6,>=3.0.1 in d:\\mlop_project_new\\venv\\lib\\site-packages (from gitdb<5,>=4.0.1->gitpython<4,>=2.1.0->mlflow) (5.0.1)\n",
      "Requirement already satisfied: llvmlite<0.42,>=0.41.0dev0 in d:\\mlop_project_new\\venv\\lib\\site-packages (from numba->shap<1,>=0.40->mlflow) (0.41.1)\n"
     ]
    }
   ],
   "source": [
    "pip install mlflow"
   ]
  },
  {
   "cell_type": "code",
   "execution_count": 5,
   "metadata": {},
   "outputs": [
    {
     "name": "stdout",
     "output_type": "stream",
     "text": [
      "Collecting dagshub\n",
      "  Downloading dagshub-0.3.45-py3-none-any.whl.metadata (11 kB)\n",
      "Requirement already satisfied: PyYAML>=5 in d:\\mlop_project_new\\venv\\lib\\site-packages (from dagshub) (6.0.2)\n",
      "Collecting appdirs>=1.4.4 (from dagshub)\n",
      "  Downloading appdirs-1.4.4-py2.py3-none-any.whl.metadata (9.0 kB)\n",
      "Requirement already satisfied: click>=8.0.4 in d:\\mlop_project_new\\venv\\lib\\site-packages (from dagshub) (8.1.7)\n",
      "Requirement already satisfied: httpx>=0.23.0 in d:\\mlop_project_new\\venv\\lib\\site-packages (from dagshub) (0.27.2)\n",
      "Requirement already satisfied: GitPython>=3.1.29 in d:\\mlop_project_new\\venv\\lib\\site-packages (from dagshub) (3.1.43)\n",
      "Collecting rich>=13.1.0 (from dagshub)\n",
      "  Downloading rich-13.9.4-py3-none-any.whl.metadata (18 kB)\n",
      "Collecting dacite~=1.6.0 (from dagshub)\n",
      "  Downloading dacite-1.6.0-py3-none-any.whl.metadata (14 kB)\n",
      "Collecting tenacity>=8.2.2 (from dagshub)\n",
      "  Using cached tenacity-9.0.0-py3-none-any.whl.metadata (1.2 kB)\n",
      "Collecting gql[requests] (from dagshub)\n",
      "  Downloading gql-3.5.0-py2.py3-none-any.whl.metadata (9.2 kB)\n",
      "Collecting dataclasses-json (from dagshub)\n",
      "  Downloading dataclasses_json-0.6.7-py3-none-any.whl.metadata (25 kB)\n",
      "Requirement already satisfied: pandas in d:\\mlop_project_new\\venv\\lib\\site-packages (from dagshub) (2.0.3)\n",
      "Collecting treelib>=1.6.4 (from dagshub)\n",
      "  Downloading treelib-1.7.0-py3-none-any.whl.metadata (1.3 kB)\n",
      "Collecting pathvalidate>=3.0.0 (from dagshub)\n",
      "  Downloading pathvalidate-3.2.1-py3-none-any.whl.metadata (12 kB)\n",
      "Requirement already satisfied: python-dateutil in d:\\mlop_project_new\\venv\\lib\\site-packages (from dagshub) (2.9.0.post0)\n",
      "Collecting boto3 (from dagshub)\n",
      "  Downloading boto3-1.35.76-py3-none-any.whl.metadata (6.7 kB)\n",
      "Collecting dagshub-annotation-converter>=0.1.0 (from dagshub)\n",
      "  Downloading dagshub_annotation_converter-0.1.2-py3-none-any.whl.metadata (2.5 kB)\n",
      "Requirement already satisfied: colorama in d:\\mlop_project_new\\venv\\lib\\site-packages (from click>=8.0.4->dagshub) (0.4.6)\n",
      "Collecting lxml (from dagshub-annotation-converter>=0.1.0->dagshub)\n",
      "  Downloading lxml-5.3.0-cp38-cp38-win_amd64.whl.metadata (3.9 kB)\n",
      "Requirement already satisfied: pillow in d:\\mlop_project_new\\venv\\lib\\site-packages (from dagshub-annotation-converter>=0.1.0->dagshub) (10.4.0)\n",
      "Collecting pydantic>=2.0.0 (from dagshub-annotation-converter>=0.1.0->dagshub)\n",
      "  Downloading pydantic-2.10.3-py3-none-any.whl.metadata (172 kB)\n",
      "Requirement already satisfied: typing-extensions in d:\\mlop_project_new\\venv\\lib\\site-packages (from dagshub-annotation-converter>=0.1.0->dagshub) (4.12.2)\n",
      "Requirement already satisfied: gitdb<5,>=4.0.1 in d:\\mlop_project_new\\venv\\lib\\site-packages (from GitPython>=3.1.29->dagshub) (4.0.11)\n",
      "Requirement already satisfied: anyio in d:\\mlop_project_new\\venv\\lib\\site-packages (from httpx>=0.23.0->dagshub) (4.5.2)\n",
      "Requirement already satisfied: certifi in d:\\mlop_project_new\\venv\\lib\\site-packages (from httpx>=0.23.0->dagshub) (2024.8.30)\n",
      "Requirement already satisfied: httpcore==1.* in d:\\mlop_project_new\\venv\\lib\\site-packages (from httpx>=0.23.0->dagshub) (1.0.6)\n",
      "Requirement already satisfied: idna in d:\\mlop_project_new\\venv\\lib\\site-packages (from httpx>=0.23.0->dagshub) (3.10)\n",
      "Requirement already satisfied: sniffio in d:\\mlop_project_new\\venv\\lib\\site-packages (from httpx>=0.23.0->dagshub) (1.3.1)\n",
      "Requirement already satisfied: h11<0.15,>=0.13 in d:\\mlop_project_new\\venv\\lib\\site-packages (from httpcore==1.*->httpx>=0.23.0->dagshub) (0.14.0)\n",
      "Collecting markdown-it-py>=2.2.0 (from rich>=13.1.0->dagshub)\n",
      "  Downloading markdown_it_py-3.0.0-py3-none-any.whl.metadata (6.9 kB)\n",
      "Requirement already satisfied: pygments<3.0.0,>=2.13.0 in d:\\mlop_project_new\\venv\\lib\\site-packages (from rich>=13.1.0->dagshub) (2.18.0)\n",
      "Requirement already satisfied: six in d:\\mlop_project_new\\venv\\lib\\site-packages (from treelib>=1.6.4->dagshub) (1.16.0)\n",
      "Collecting botocore<1.36.0,>=1.35.76 (from boto3->dagshub)\n",
      "  Downloading botocore-1.35.76-py3-none-any.whl.metadata (5.7 kB)\n",
      "Collecting jmespath<2.0.0,>=0.7.1 (from boto3->dagshub)\n",
      "  Downloading jmespath-1.0.1-py3-none-any.whl.metadata (7.6 kB)\n",
      "Collecting s3transfer<0.11.0,>=0.10.0 (from boto3->dagshub)\n",
      "  Downloading s3transfer-0.10.4-py3-none-any.whl.metadata (1.7 kB)\n",
      "Collecting marshmallow<4.0.0,>=3.18.0 (from dataclasses-json->dagshub)\n",
      "  Downloading marshmallow-3.22.0-py3-none-any.whl.metadata (7.2 kB)\n",
      "Collecting typing-inspect<1,>=0.4.0 (from dataclasses-json->dagshub)\n",
      "  Downloading typing_inspect-0.9.0-py3-none-any.whl.metadata (1.5 kB)\n",
      "Collecting graphql-core<3.3,>=3.2 (from gql[requests]->dagshub)\n",
      "  Downloading graphql_core-3.2.5-py3-none-any.whl.metadata (10 kB)\n",
      "Collecting yarl<2.0,>=1.6 (from gql[requests]->dagshub)\n",
      "  Downloading yarl-1.15.2-cp38-cp38-win_amd64.whl.metadata (58 kB)\n",
      "Collecting backoff<3.0,>=1.11.1 (from gql[requests]->dagshub)\n",
      "  Downloading backoff-2.2.1-py3-none-any.whl.metadata (14 kB)\n",
      "Requirement already satisfied: requests<3,>=2.26 in d:\\mlop_project_new\\venv\\lib\\site-packages (from gql[requests]->dagshub) (2.32.3)\n",
      "Collecting requests-toolbelt<2,>=1.0.0 (from gql[requests]->dagshub)\n",
      "  Downloading requests_toolbelt-1.0.0-py2.py3-none-any.whl.metadata (14 kB)\n",
      "Requirement already satisfied: pytz>=2020.1 in d:\\mlop_project_new\\venv\\lib\\site-packages (from pandas->dagshub) (2022.7.1)\n",
      "Requirement already satisfied: tzdata>=2022.1 in d:\\mlop_project_new\\venv\\lib\\site-packages (from pandas->dagshub) (2024.2)\n",
      "Requirement already satisfied: numpy>=1.20.3 in d:\\mlop_project_new\\venv\\lib\\site-packages (from pandas->dagshub) (1.24.4)\n",
      "Requirement already satisfied: exceptiongroup>=1.0.2 in d:\\mlop_project_new\\venv\\lib\\site-packages (from anyio->httpx>=0.23.0->dagshub) (1.2.2)\n",
      "Collecting urllib3<1.27,>=1.25.4 (from botocore<1.36.0,>=1.35.76->boto3->dagshub)\n",
      "  Downloading urllib3-1.26.20-py2.py3-none-any.whl.metadata (50 kB)\n",
      "Requirement already satisfied: smmap<6,>=3.0.1 in d:\\mlop_project_new\\venv\\lib\\site-packages (from gitdb<5,>=4.0.1->GitPython>=3.1.29->dagshub) (5.0.1)\n",
      "Collecting mdurl~=0.1 (from markdown-it-py>=2.2.0->rich>=13.1.0->dagshub)\n",
      "  Downloading mdurl-0.1.2-py3-none-any.whl.metadata (1.6 kB)\n",
      "Requirement already satisfied: packaging>=17.0 in d:\\mlop_project_new\\venv\\lib\\site-packages (from marshmallow<4.0.0,>=3.18.0->dataclasses-json->dagshub) (23.2)\n",
      "Collecting annotated-types>=0.6.0 (from pydantic>=2.0.0->dagshub-annotation-converter>=0.1.0->dagshub)\n",
      "  Using cached annotated_types-0.7.0-py3-none-any.whl.metadata (15 kB)\n",
      "Collecting pydantic-core==2.27.1 (from pydantic>=2.0.0->dagshub-annotation-converter>=0.1.0->dagshub)\n",
      "  Downloading pydantic_core-2.27.1-cp38-none-win_amd64.whl.metadata (6.7 kB)\n",
      "Requirement already satisfied: charset-normalizer<4,>=2 in d:\\mlop_project_new\\venv\\lib\\site-packages (from requests<3,>=2.26->gql[requests]->dagshub) (3.4.0)\n",
      "Collecting mypy-extensions>=0.3.0 (from typing-inspect<1,>=0.4.0->dataclasses-json->dagshub)\n",
      "  Downloading mypy_extensions-1.0.0-py3-none-any.whl.metadata (1.1 kB)\n",
      "Collecting multidict>=4.0 (from yarl<2.0,>=1.6->gql[requests]->dagshub)\n",
      "  Downloading multidict-6.1.0-cp38-cp38-win_amd64.whl.metadata (5.1 kB)\n",
      "Collecting propcache>=0.2.0 (from yarl<2.0,>=1.6->gql[requests]->dagshub)\n",
      "  Downloading propcache-0.2.0-cp38-cp38-win_amd64.whl.metadata (7.9 kB)\n",
      "Downloading dagshub-0.3.45-py3-none-any.whl (252 kB)\n",
      "Downloading appdirs-1.4.4-py2.py3-none-any.whl (9.6 kB)\n",
      "Downloading dacite-1.6.0-py3-none-any.whl (12 kB)\n",
      "Downloading dagshub_annotation_converter-0.1.2-py3-none-any.whl (33 kB)\n",
      "Downloading pathvalidate-3.2.1-py3-none-any.whl (23 kB)\n",
      "Downloading rich-13.9.4-py3-none-any.whl (242 kB)\n",
      "Using cached tenacity-9.0.0-py3-none-any.whl (28 kB)\n",
      "Downloading treelib-1.7.0-py3-none-any.whl (18 kB)\n",
      "Downloading boto3-1.35.76-py3-none-any.whl (139 kB)\n",
      "Downloading dataclasses_json-0.6.7-py3-none-any.whl (28 kB)\n",
      "Downloading backoff-2.2.1-py3-none-any.whl (15 kB)\n",
      "Downloading botocore-1.35.76-py3-none-any.whl (13.2 MB)\n",
      "   ---------------------------------------- 0.0/13.2 MB ? eta -:--:--\n",
      "   ---------------------------------------  13.1/13.2 MB 74.7 MB/s eta 0:00:01\n",
      "   ---------------------------------------- 13.2/13.2 MB 41.6 MB/s eta 0:00:00\n",
      "Downloading graphql_core-3.2.5-py3-none-any.whl (203 kB)\n",
      "Downloading jmespath-1.0.1-py3-none-any.whl (20 kB)\n",
      "Downloading markdown_it_py-3.0.0-py3-none-any.whl (87 kB)\n",
      "Downloading marshmallow-3.22.0-py3-none-any.whl (49 kB)\n",
      "Downloading pydantic-2.10.3-py3-none-any.whl (456 kB)\n",
      "Downloading pydantic_core-2.27.1-cp38-none-win_amd64.whl (2.0 MB)\n",
      "   ---------------------------------------- 0.0/2.0 MB ? eta -:--:--\n",
      "   ---------------------------------------- 2.0/2.0 MB 27.3 MB/s eta 0:00:00\n",
      "Downloading requests_toolbelt-1.0.0-py2.py3-none-any.whl (54 kB)\n",
      "Downloading s3transfer-0.10.4-py3-none-any.whl (83 kB)\n",
      "Downloading typing_inspect-0.9.0-py3-none-any.whl (8.8 kB)\n",
      "Downloading yarl-1.15.2-cp38-cp38-win_amd64.whl (84 kB)\n",
      "Downloading gql-3.5.0-py2.py3-none-any.whl (74 kB)\n",
      "Downloading lxml-5.3.0-cp38-cp38-win_amd64.whl (3.8 MB)\n",
      "   ---------------------------------------- 0.0/3.8 MB ? eta -:--:--\n",
      "   ---------------------------------------- 3.8/3.8 MB 38.2 MB/s eta 0:00:00\n",
      "Using cached annotated_types-0.7.0-py3-none-any.whl (13 kB)\n",
      "Downloading mdurl-0.1.2-py3-none-any.whl (10.0 kB)\n",
      "Downloading multidict-6.1.0-cp38-cp38-win_amd64.whl (28 kB)\n",
      "Downloading mypy_extensions-1.0.0-py3-none-any.whl (4.7 kB)\n",
      "Downloading propcache-0.2.0-cp38-cp38-win_amd64.whl (45 kB)\n",
      "Downloading urllib3-1.26.20-py2.py3-none-any.whl (144 kB)\n",
      "Installing collected packages: appdirs, urllib3, treelib, tenacity, pydantic-core, propcache, pathvalidate, mypy-extensions, multidict, mdurl, marshmallow, lxml, jmespath, graphql-core, dacite, backoff, annotated-types, yarl, typing-inspect, pydantic, markdown-it-py, botocore, s3transfer, rich, requests-toolbelt, gql, dataclasses-json, dagshub-annotation-converter, boto3, dagshub\n",
      "  Attempting uninstall: urllib3\n",
      "    Found existing installation: urllib3 2.2.3\n",
      "    Uninstalling urllib3-2.2.3:\n",
      "      Successfully uninstalled urllib3-2.2.3\n",
      "Successfully installed annotated-types-0.7.0 appdirs-1.4.4 backoff-2.2.1 boto3-1.35.76 botocore-1.35.76 dacite-1.6.0 dagshub-0.3.45 dagshub-annotation-converter-0.1.2 dataclasses-json-0.6.7 gql-3.5.0 graphql-core-3.2.5 jmespath-1.0.1 lxml-5.3.0 markdown-it-py-3.0.0 marshmallow-3.22.0 mdurl-0.1.2 multidict-6.1.0 mypy-extensions-1.0.0 pathvalidate-3.2.1 propcache-0.2.0 pydantic-2.10.3 pydantic-core-2.27.1 requests-toolbelt-1.0.0 rich-13.9.4 s3transfer-0.10.4 tenacity-9.0.0 treelib-1.7.0 typing-inspect-0.9.0 urllib3-1.26.20 yarl-1.15.2\n",
      "Note: you may need to restart the kernel to use updated packages.\n"
     ]
    }
   ],
   "source": [
    "pip install dagshub"
   ]
  },
  {
   "cell_type": "code",
   "execution_count": null,
   "metadata": {},
   "outputs": [],
   "source": [
    "# if u want to push or run  in local server\n",
    "# local development: work on model locally and use MLFLOW SCRIPT to tack ur experimets.\n",
    "# log data, exp, modells locally.\n",
    "# conncet mlflow app and pip install it\n",
    "# once done, mlflow api connect python to its app\n",
    "# then using mlflow commands u can either store logs exp metric in ur local computer \n",
    "# by not specifying its tracking URI eg mlflow.set_experiment, mlflow_set_trackin uri()\n",
    "# if u want to use or make these reports stores ouside not locally like we use cloud concepts, u can\n",
    "# use DAGSHUB which acts AS CENTRALISED STORAGE FOR KEPPING MLFLOW LOGS REPORT AND \n",
    "# BY CONNECTING TO DAGSHUBBTO GITHUB IT HELPS IN COIDE VERSIONING AN ALL.\n",
    "# AFTER THAT U CAN USE GITHUBACTION TO CI CD PURPOSE\n",
    "\n",
    "#SINCE HERE WE USE CENTRALLISED STORAGE FOR MLFLOW REPORTS AN LOGS IE DAGSHUB, \n",
    "# we will first install dagshub to conncet locally and then authorise it, then connect an dcreate \n",
    "# new repo in dagshub by connecting to github repo. \n",
    "\n",
    "\n",
    "# then go to remote, take its code to SET UP DAGSHUB UISNG:set up dagshub\n",
    "# \"COPYING CODE: DAGSHUB.init(\"repo owner....\")\".git.\n",
    "#THIS WILL PUSH IT TO CENTRALLISED STORAGE\n",
    "\n",
    "\n",
    "#ALSO U NEED TO ADD ITS URI TACKING : GO TO DAGHUB WITH GITHUB, AND COPY THE URI \n",
    "# USING MLFLOW_SET_TRACKING_URI(HTTPS....). THIS WILL PUBLISH ALL REPORTS METRICS LOGS TO THIS URL IE CETRAL\n",
    "\n",
    "# U COULD SEE ERORRIN PRMIION:\n",
    "# ADD ENVIROMENT USRNAME PASSWORD, PUBLIC KEY ID.. TRACKING URI: EG \n",
    "# IMPORT OS\n",
    "# os.environ[\"tracking usrname\"] = \"learn..\"\n",
    "#         [\"password\"] = \"\"\n"
   ]
  },
  {
   "cell_type": "code",
   "execution_count": null,
   "metadata": {},
   "outputs": [],
   "source": [
    "# set new uri\n",
    "# log in to dagshub(deploying not locally)\n",
    "\n",
    "import dagshub\n",
    "# dagshub owner \n",
    "# running \n",
    "dagshub.init(repo_owner='superseupper2014', repo_name='mlflow', mlflow=True)\n",
    "\n",
    "import mlflow\n",
    "with mlflow.start_run():\n",
    "  mlflow.log_param('parameter name', 'value')\n",
    "  mlflow.log_metric('metric name', 1)"
   ]
  },
  {
   "cell_type": "code",
   "execution_count": 6,
   "metadata": {},
   "outputs": [],
   "source": [
    "os.environ[\"MLFLOW_TRACKING_URI\"] = 'https://dagshub.com/superseupper2014/mlflow.mlflow'\n",
    "os.environ[\"MLFLOW_TRACKING_USERNAME\"] = 'superseupper2014'\n",
    "os.environ[\"MLFLOW_TRACKING_PASSWORD\"] = '6e569e2ab628afe7e28a8e56dab9f965978d59eb'\n"
   ]
  },
  {
   "cell_type": "code",
   "execution_count": 29,
   "metadata": {},
   "outputs": [],
   "source": [
    "from dataclasses import dataclass\n",
    "from pathlib import Path\n",
    "\n",
    "\n",
    "@dataclass(frozen=True)\n",
    "class ModelEvaluationConfig:\n",
    "    root_dir: Path\n",
    "    test_data_path: Path\n",
    "    model_path: Path\n",
    "    all_params: dict\n",
    "    metric_file_name: Path\n",
    "    target_column: str\n",
    "    mlflow_uri: str"
   ]
  },
  {
   "cell_type": "code",
   "execution_count": 30,
   "metadata": {},
   "outputs": [],
   "source": [
    "from mlProject.constants import *\n",
    "from mlProject.utils.common import read_yaml, create_directories, save_json"
   ]
  },
  {
   "cell_type": "code",
   "execution_count": 31,
   "metadata": {},
   "outputs": [],
   "source": [
    "class ConfigurationManager:\n",
    "    def __init__(\n",
    "        self,\n",
    "        config_filepath = CONFIG_FILE_PATH,\n",
    "        params_filepath = PARAMS_FILE_PATH,\n",
    "        schema_filepath = SCHEMA_FILE_PATH):\n",
    "\n",
    "        self.config = read_yaml(config_filepath)\n",
    "        self.params = read_yaml(params_filepath)\n",
    "        self.schema = read_yaml(schema_filepath)\n",
    "\n",
    "        create_directories([self.config.artifacts_root])\n",
    "\n",
    "    \n",
    "    def get_model_evaluation_config(self) -> ModelEvaluationConfig:\n",
    "        config = self.config.model_evaluation\n",
    "        params = self.params.ElasticNet\n",
    "        schema =  self.schema.TARGET_COLUMN\n",
    "\n",
    "        create_directories([config.root_dir])\n",
    "\n",
    "        model_evaluation_config = ModelEvaluationConfig(\n",
    "            root_dir=config.root_dir,\n",
    "            test_data_path=config.test_data_path,\n",
    "            model_path = config.model_path,\n",
    "            all_params=params,\n",
    "            metric_file_name = config.metric_file_name,\n",
    "            target_column = schema.name,\n",
    "            mlflow_uri='https://dagshub.com/superseupper2014/mlflow.mlflow',\n",
    "           \n",
    "        )\n",
    "\n",
    "        return model_evaluation_config\n"
   ]
  },
  {
   "cell_type": "code",
   "execution_count": 32,
   "metadata": {},
   "outputs": [],
   "source": [
    "import os\n",
    "import pandas as pd\n",
    "from sklearn.metrics import mean_squared_error, mean_absolute_error, r2_score\n",
    "from urllib.parse import urlparse\n",
    "import mlflow\n",
    "import mlflow.sklearn\n",
    "import numpy as np\n",
    "import joblib"
   ]
  },
  {
   "cell_type": "code",
   "execution_count": 33,
   "metadata": {},
   "outputs": [],
   "source": [
    "class ModelEvaluation:\n",
    "    def __init__(self, config: ModelEvaluationConfig):\n",
    "        self.config = config\n",
    "\n",
    "    \n",
    "    def eval_metrics(self,actual, pred):\n",
    "        rmse = np.sqrt(mean_squared_error(actual, pred))\n",
    "        mae = mean_absolute_error(actual, pred)\n",
    "        r2 = r2_score(actual, pred)\n",
    "        return rmse, mae, r2\n",
    "    \n",
    "\n",
    "\n",
    "    def log_into_mlflow(self):\n",
    "\n",
    "        test_data = pd.read_csv(self.config.test_data_path)\n",
    "        model = joblib.load(self.config.model_path)\n",
    "\n",
    "        test_x = test_data.drop([self.config.target_column], axis=1)\n",
    "        test_y = test_data[[self.config.target_column]]\n",
    "\n",
    "\n",
    "        mlflow.set_registry_uri(self.config.mlflow_uri)\n",
    "        tracking_url_type_store = urlparse(mlflow.get_tracking_uri()).scheme\n",
    "\n",
    "\n",
    "        with mlflow.start_run():\n",
    "\n",
    "            predicted_qualities = model.predict(test_x)\n",
    "\n",
    "            (rmse, mae, r2) = self.eval_metrics(test_y, predicted_qualities)\n",
    "            \n",
    "            # Saving metrics as local\n",
    "            scores = {\"rmse\": rmse, \"mae\": mae, \"r2\": r2}\n",
    "            save_json(path=Path(self.config.metric_file_name), data=scores)\n",
    "\n",
    "            mlflow.log_params(self.config.all_params)\n",
    "\n",
    "            mlflow.log_metric(\"rmse\", rmse)\n",
    "            mlflow.log_metric(\"r2\", r2)\n",
    "            mlflow.log_metric(\"mae\", mae)\n",
    "\n",
    "\n",
    "            # Model registry does not work with file store\n",
    "            if tracking_url_type_store != \"file\":\n",
    "\n",
    "                # Register the model\n",
    "                # There are other ways to use the Model Registry, which depends on the use case,\n",
    "                # please refer to the doc for more information:\n",
    "                # https://mlflow.org/docs/latest/model-registry.html#api-workflow\n",
    "                mlflow.sklearn.log_model(model, \"model\", registered_model_name=\"ElasticnetModel\")\n",
    "            else:\n",
    "                mlflow.sklearn.log_model(model, \"model\")\n"
   ]
  },
  {
   "cell_type": "code",
   "execution_count": 28,
   "metadata": {},
   "outputs": [
    {
     "name": "stdout",
     "output_type": "stream",
     "text": [
      "[2024-12-08 11:48:13,577: INFO: common: yaml file: config\\config.yaml loaded successfully]\n",
      "[2024-12-08 11:48:13,583: INFO: common: yaml file: params.yaml loaded successfully]\n"
     ]
    },
    {
     "name": "stdout",
     "output_type": "stream",
     "text": [
      "[2024-12-08 11:48:13,591: INFO: common: yaml file: schema.yaml loaded successfully]\n",
      "[2024-12-08 11:48:13,596: INFO: common: created directory at: artifacts]\n",
      "[2024-12-08 11:48:13,599: INFO: common: created directory at: artifacts/model_evaluation]\n",
      "[2024-12-08 11:48:15,820: INFO: common: json file saved at: artifacts\\model_evaluation\\metrics.json]\n"
     ]
    },
    {
     "name": "stderr",
     "output_type": "stream",
     "text": [
      "d:\\MLOP_Project_new\\venv\\lib\\site-packages\\_distutils_hack\\__init__.py:31: UserWarning: Setuptools is replacing distutils. Support for replacing an already imported distutils is deprecated. In the future, this condition will fail. Register concerns at https://github.com/pypa/setuptools/issues/new?template=distutils-deprecation.yml\n",
      "  warnings.warn(\n",
      "Successfully registered model 'ElasticnetModel'.\n",
      "2024/12/08 11:48:55 INFO mlflow.tracking._model_registry.client: Waiting up to 300 seconds for model version to finish creation.                     Model name: ElasticnetModel, version 1\n",
      "Created version '1' of model 'ElasticnetModel'.\n"
     ]
    }
   ],
   "source": [
    "try:\n",
    "    config = ConfigurationManager()\n",
    "    model_evaluation_config = config.get_model_evaluation_config()\n",
    "    model_evaluation_config = ModelEvaluation(config=model_evaluation_config)\n",
    "    model_evaluation_config.log_into_mlflow()\n",
    "except Exception as e:\n",
    "    raise e"
   ]
  },
  {
   "cell_type": "code",
   "execution_count": 34,
   "metadata": {},
   "outputs": [
    {
     "name": "stdout",
     "output_type": "stream",
     "text": [
      "[2024-12-08 12:55:33,891: INFO: common: yaml file: config\\config.yaml loaded successfully]\n",
      "[2024-12-08 12:55:33,935: INFO: common: yaml file: params.yaml loaded successfully]\n",
      "[2024-12-08 12:55:33,987: INFO: common: yaml file: schema.yaml loaded successfully]\n",
      "[2024-12-08 12:55:33,993: INFO: common: created directory at: artifacts]\n",
      "[2024-12-08 12:55:34,001: INFO: common: created directory at: artifacts/model_evaluation]\n",
      "[2024-12-08 12:55:34,430: WARNING: connectionpool: Retrying (Retry(total=4, connect=5, read=4, redirect=5, status=5)) after connection broken by 'ProtocolError('Connection aborted.', ConnectionResetError(10054, 'An existing connection was forcibly closed by the remote host', None, 10054, None))': /superseupper2014/mlflow.mlflow/api/2.0/mlflow/runs/create]\n",
      "[2024-12-08 12:55:34,587: INFO: common: json file saved at: artifacts\\model_evaluation\\metrics.json]\n"
     ]
    },
    {
     "name": "stderr",
     "output_type": "stream",
     "text": [
      "Registered model 'ElasticnetModel' already exists. Creating a new version of this model...\n",
      "2024/12/08 12:56:21 INFO mlflow.tracking._model_registry.client: Waiting up to 300 seconds for model version to finish creation.                     Model name: ElasticnetModel, version 2\n",
      "Created version '2' of model 'ElasticnetModel'.\n"
     ]
    }
   ],
   "source": [
    "# version 2 experimental changing params\n",
    "try:\n",
    "    config = ConfigurationManager()\n",
    "    model_evaluation_config = config.get_model_evaluation_config()\n",
    "    model_evaluation_config = ModelEvaluation(config=model_evaluation_config)\n",
    "    model_evaluation_config.log_into_mlflow()\n",
    "except Exception as e:\n",
    "    raise e"
   ]
  }
 ],
 "metadata": {
  "kernelspec": {
   "display_name": "Python 3",
   "language": "python",
   "name": "python3"
  },
  "language_info": {
   "codemirror_mode": {
    "name": "ipython",
    "version": 3
   },
   "file_extension": ".py",
   "mimetype": "text/x-python",
   "name": "python",
   "nbconvert_exporter": "python",
   "pygments_lexer": "ipython3",
   "version": "3.8.20"
  }
 },
 "nbformat": 4,
 "nbformat_minor": 2
}
