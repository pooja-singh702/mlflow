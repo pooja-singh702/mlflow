{
 "cells": [
  {
   "cell_type": "code",
   "execution_count": 40,
   "metadata": {},
   "outputs": [
    {
     "data": {
      "text/plain": [
       "'D:\\\\MLOP_Project_new'"
      ]
     },
     "execution_count": 40,
     "metadata": {},
     "output_type": "execute_result"
    }
   ],
   "source": [
    "import os\n",
    "%pwd"
   ]
  },
  {
   "cell_type": "code",
   "execution_count": 35,
   "metadata": {},
   "outputs": [],
   "source": [
    "os.chdir(\"../\")"
   ]
  },
  {
   "cell_type": "code",
   "execution_count": 36,
   "metadata": {},
   "outputs": [
    {
     "data": {
      "text/plain": [
       "'d:\\\\'"
      ]
     },
     "execution_count": 36,
     "metadata": {},
     "output_type": "execute_result"
    }
   ],
   "source": [
    "%pwd"
   ]
  },
  {
   "cell_type": "code",
   "execution_count": 37,
   "metadata": {},
   "outputs": [
    {
     "name": "stdout",
     "output_type": "stream",
     "text": [
      " Volume in drive D is pooja\n",
      " Volume Serial Number is DC12-4DF7\n",
      "\n",
      " Directory of d:\\\n",
      "\n",
      "09/08/2024  03:29 PM    <DIR>          action_CI_CD\n",
      "09/27/2024  09:36 PM    <DIR>          CasaProject\n",
      "09/08/2024  03:54 PM    <DIR>          CI_CD\n",
      "10/04/2024  10:40 AM    <DIR>          CI_CD_PIPELINE_GITHUB_ACTION\n",
      "09/09/2024  10:49 AM    <DIR>          COLLEGE_PROJECTS\n",
      "09/26/2024  01:18 PM    <DIR>          CollegeProject\n",
      "08/28/2024  06:37 PM    <DIR>          Docker\n",
      "08/29/2024  02:01 PM    <DIR>          Docker_new\n",
      "10/28/2024  08:34 PM    <DIR>          DOWNLOADS\n",
      "09/08/2024  06:44 PM    <DIR>          End_End_ML_Project\n",
      "10/03/2024  02:01 AM    <DIR>          End_end_ml_project_Final\n",
      "09/23/2024  02:45 PM    <DIR>          Fast_api_classifier_model_predict\n",
      "08/26/2024  05:58 PM    <DIR>          Flask_practise\n",
      "08/20/2024  05:51 PM        50,319,856 gh.exe\n",
      "09/03/2024  12:46 PM    <DIR>          GIT_ACTIONS\n",
      "09/03/2024  07:20 PM    <DIR>          git_actions_2bash\n",
      "10/09/2024  01:47 PM    <DIR>          Git_Hub_Project_Final\n",
      "08/31/2024  04:18 PM           100,194 git-cheat-sheet-education.pdf\n",
      "10/07/2024  08:12 PM    <DIR>          GitHub_Project\n",
      "09/03/2024  11:23 AM    <DIR>          gitpractise\n",
      "09/24/2024  11:47 AM    <DIR>          heroku\n",
      "08/04/2024  12:07 AM    <DIR>          jupyter_notebook\n",
      "09/09/2024  10:35 AM    <DIR>          Loan\n",
      "09/09/2024  01:01 PM    <DIR>          Loan_Prediction_project\n",
      "10/23/2024  10:22 AM    <DIR>          MLOP_PROJECT\n",
      "10/26/2024  06:29 AM    <DIR>          MLOP_Project_new\n",
      "09/08/2024  07:07 PM    <DIR>          notepad\n",
      "07/15/2024  10:50 AM    <DIR>          other_download\n",
      "08/21/2024  12:01 PM    <DIR>          Pooja_end_end_ml\n",
      "07/30/2024  08:13 PM    <DIR>          python_book\n",
      "07/26/2024  02:38 PM    <DIR>          reyansh book and studies\n",
      "09/03/2024  07:33 PM    <DIR>          Vim\n",
      "09/03/2024  07:36 PM    <DIR>          Vim - Copy\n",
      "07/11/2024  10:27 PM    <DIR>          Visual Studio\n",
      "10/26/2024  06:11 AM           100,951 winequality-red.csv\n",
      "10/26/2024  06:15 AM            25,174 winequality-red.zip\n",
      "               4 File(s)     50,546,175 bytes\n",
      "              32 Dir(s)  36,720,562,176 bytes free\n"
     ]
    }
   ],
   "source": [
    "ls"
   ]
  },
  {
   "cell_type": "code",
   "execution_count": 39,
   "metadata": {},
   "outputs": [],
   "source": [
    "os.chdir('D:\\MLOP_Project_new')"
   ]
  },
  {
   "cell_type": "code",
   "execution_count": 77,
   "metadata": {},
   "outputs": [],
   "source": [
    "from dataclasses import dataclass\n",
    "from pathlib import Path\n",
    "@dataclass(frozen=True)\n",
    "class DataIngestionConfig:\n",
    "    root_dir: Path\n",
    "    source_url: str\n",
    "    local_data_file:Path\n",
    "    unzip_dir: Path\n",
    "    "
   ]
  },
  {
   "cell_type": "code",
   "execution_count": 78,
   "metadata": {},
   "outputs": [],
   "source": [
    "# calling script constants that contain path to yaml file\n",
    "from mlProject.constants import *\n",
    "from mlProject.utils.common import read_yaml, create_directories\n",
    "\n"
   ]
  },
  {
   "cell_type": "code",
   "execution_count": 79,
   "metadata": {},
   "outputs": [],
   "source": [
    "## creating class configuration manager which will \n",
    "## initialise constants all 3 yaml file path, then it will initialise 3 var as self.config, ... for all 3 yaml files after reading it usin \n",
    "#funct read_yaml\n",
    "# use create dir function from common to crearte artifact dir\n",
    "\n",
    "class ConfigurationManager:\n",
    "    def __init__(self,config_filepath= CONFIG_FILE_PATH, params_filepath = PARAMS_FILE_PATH,schema_filepath= SCHEMA_FILE_PATH):\n",
    "        self.config = read_yaml(config_filepath)\n",
    "        self.params = read_yaml(params_filepath)\n",
    "\n",
    "        create_directories([self.config.artifacts_root])\n",
    "    def get_data_ingestion_config(self) -> DataIngestionConfig:\n",
    "        config = self.config.data_ingestion  # config.yml page data ingestion containg  var path\n",
    "\n",
    "        create_directories([config.root_dir])  # now config is var containg contents of config.yaml \n",
    "                                               # and getting root dir from dataingestion written inside it\n",
    "\n",
    "        \n",
    "\n",
    "\n",
    "        ## configuring data ingestion files path using dataingestionconfig class\n",
    "        # passing data to dataingetsionconfig to get paths of 4 var\n",
    "        data_ingestion_config = DataIngestionConfig(\n",
    "            root_dir= config.root_dir,\n",
    "            source_url= config.source_url,\n",
    "            local_data_file=config.local_data_file,\n",
    "            unzip_dir= config.unzip_dir)\n",
    "\n",
    "        return data_ingestion_config   #returning all 4 paths of root dir, source, zip , unzip\n",
    "\n",
    "\n",
    "\n",
    "      \n",
    "\n",
    "\n",
    "\n",
    "        \n",
    "\n",
    "    "
   ]
  },
  {
   "cell_type": "code",
   "execution_count": 82,
   "metadata": {},
   "outputs": [],
   "source": [
    "import os\n",
    "import urllib.request as request\n",
    "import zipfile\n",
    "from mlProject import logger\n",
    "from src.mlProject.utils.common import get_size\n",
    "from pathlib import Path\n",
    "#from mlProject.entity.config_entity import (DataIngestionConfig)\n",
    "\n",
    "\n",
    "class DataIngestion:\n",
    "    def __init__(self, config: DataIngestionConfig):\n",
    "        self.config = config\n",
    "\n",
    "\n",
    "    \n",
    "    def download_file(self):\n",
    "        if not os.path.exists(self.config.local_data_file):\n",
    "            filename, headers = request.urlretrieve(\n",
    "                url = self.config.source_url,\n",
    "                filename = self.config.local_data_file\n",
    "            )\n",
    "            logger.info(f\"{filename} download! with following info: \\n{headers}\")\n",
    "        else:\n",
    "            logger.info(f\"File already exists of size: {get_size(Path(self.config.local_data_file))}\")\n",
    "\n",
    "\n",
    "\n",
    "    def extract_zip_file(self):\n",
    "        \"\"\"\n",
    "        zip_file_path: str\n",
    "        Extracts the zip file into the data directory\n",
    "        Function returns None\n",
    "        \"\"\"\n",
    "        unzip_path = self.config.unzip_dir\n",
    "        os.makedirs(unzip_path, exist_ok=True)\n",
    "        with zipfile.ZipFile(self.config.local_data_file, 'r') as zip_ref:\n",
    "            zip_ref.extractall(unzip_path)"
   ]
  },
  {
   "cell_type": "code",
   "execution_count": 88,
   "metadata": {},
   "outputs": [
    {
     "name": "stdout",
     "output_type": "stream",
     "text": [
      "[2024-10-29 12:38:26,064: INFO: common: yaml file: config\\config.yaml loaded successfully]\n",
      "[2024-10-29 12:38:26,069: INFO: common: yaml file: params.yaml loaded successfully]\n",
      "[2024-10-29 12:38:26,073: INFO: common: created directory at: artifacts]\n",
      "[2024-10-29 12:38:26,078: INFO: common: created directory at: artifacts/data_ingestion]\n",
      "[2024-10-29 12:38:26,082: INFO: 3359351353: File already exists of size: ~ 23 KB]\n"
     ]
    }
   ],
   "source": [
    "try:\n",
    "    config = ConfigurationManager()\n",
    "    data_ingestion_config = config.get_data_ingestion_config()\n",
    "    data_ingestion = DataIngestion(config= data_ingestion_config)\n",
    "    data_ingestion.download_file()\n",
    "    data_ingestion.extract_zip_file()\n",
    "except Exception as e:\n",
    "    raise e\n"
   ]
  },
  {
   "cell_type": "code",
   "execution_count": 72,
   "metadata": {},
   "outputs": [
    {
     "name": "stdout",
     "output_type": "stream",
     "text": [
      "[2024-10-29 11:17:08,873: INFO: common: yaml file: config\\config.yaml loaded successfully]\n",
      "[2024-10-29 11:17:08,879: INFO: common: yaml file: params.yaml loaded successfully]\n",
      "[2024-10-29 11:17:08,883: INFO: common: created directory at: artifacts]\n",
      "[2024-10-29 11:17:08,886: INFO: common: created directory at: artifacts/data_ingestion]\n",
      "<class '__main__.DataIngestionConfig'>\n",
      "[2024-10-29 11:17:08,891: INFO: 3359351353: File already exists of size: ~ 23 KB]\n"
     ]
    }
   ],
   "source": [
    "try:\n",
    "    config = ConfigurationManager()\n",
    "    data_ingestion_config = config.get_data_ingestion_config()\n",
    "    \n",
    "    print(type(data_ingestion_config))  # Check type\n",
    "\n",
    "    data_ingestion = DataIngestion(config=data_ingestion_config)\n",
    "    \n",
    "    data_ingestion.download_file()\n",
    "    data_ingestion.extract_zip_file()\n",
    "except Exception as e:\n",
    "    print(\"An error occurred:\", e)\n"
   ]
  },
  {
   "cell_type": "code",
   "execution_count": 85,
   "metadata": {},
   "outputs": [
    {
     "name": "stdout",
     "output_type": "stream",
     "text": [
      "[2024-10-29 12:29:39,053: INFO: common: yaml file: config\\config.yaml loaded successfully]\n",
      "[2024-10-29 12:29:39,060: INFO: common: yaml file: params.yaml loaded successfully]\n",
      "[2024-10-29 12:29:39,065: INFO: common: created directory at: artifacts]\n",
      "[2024-10-29 12:29:39,069: INFO: common: created directory at: artifacts/data_ingestion]\n",
      "Type of data_ingestion_config: <class '__main__.DataIngestionConfig'>\n",
      "Contents of data_ingestion_config: DataIngestionConfig(root_dir='artifacts/data_ingestion', source_url='https://github.com/entbappy/Branching-tutorial/raw/master/winequality-data.zip', local_data_file='artifacts/data_ingestion/data.zip', unzip_dir='artifacts/data_ingestion')\n",
      "[2024-10-29 12:29:41,024: INFO: 3359351353: artifacts/data_ingestion/data.zip download! with following info: \n",
      "Connection: close\n",
      "Content-Length: 23329\n",
      "Cache-Control: max-age=300\n",
      "Content-Security-Policy: default-src 'none'; style-src 'unsafe-inline'; sandbox\n",
      "Content-Type: application/zip\n",
      "ETag: \"c69888a4ae59bc5a893392785a938ccd4937981c06ba8a9d6a21aa52b4ab5b6e\"\n",
      "Strict-Transport-Security: max-age=31536000\n",
      "X-Content-Type-Options: nosniff\n",
      "X-Frame-Options: deny\n",
      "X-XSS-Protection: 1; mode=block\n",
      "X-GitHub-Request-Id: 5EC6:2DF568:1039851:11BB594:67210D74\n",
      "Accept-Ranges: bytes\n",
      "Date: Tue, 29 Oct 2024 16:29:40 GMT\n",
      "Via: 1.1 varnish\n",
      "X-Served-By: cache-ewr-kewr1740022-EWR\n",
      "X-Cache: MISS\n",
      "X-Cache-Hits: 0\n",
      "X-Timer: S1730219381.810163,VS0,VE90\n",
      "Vary: Authorization,Accept-Encoding,Origin\n",
      "Access-Control-Allow-Origin: *\n",
      "Cross-Origin-Resource-Policy: cross-origin\n",
      "X-Fastly-Request-ID: 5ef1b02384a4636b33281cf3d0dbb1e26f961f5e\n",
      "Expires: Tue, 29 Oct 2024 16:34:40 GMT\n",
      "Source-Age: 0\n",
      "\n",
      "]\n"
     ]
    }
   ],
   "source": [
    "# Assuming you have already defined ConfigurationManager and DataIngestionConfig\n",
    "\n",
    "try:\n",
    "    # Initialize the ConfigurationManager\n",
    "    config = ConfigurationManager()\n",
    "\n",
    "    # Get data ingestion configuration\n",
    "    data_ingestion_config = config.get_data_ingestion_config()\n",
    "    \n",
    "    # Print the type of the returned configuration\n",
    "    print(\"Type of data_ingestion_config:\", type(data_ingestion_config))\n",
    "\n",
    "    # Check the contents of data_ingestion_config\n",
    "    print(\"Contents of data_ingestion_config:\", data_ingestion_config)\n",
    "\n",
    "    # Initialize DataIngestion with the config\n",
    "    data_ingestion = DataIngestion(config=data_ingestion_config)\n",
    "    \n",
    "    # Perform the download and extraction\n",
    "    data_ingestion.download_file()\n",
    "    data_ingestion.extract_zip_file()\n",
    "    \n",
    "except Exception as e:\n",
    "    print(\"An error occurred:\", e)\n"
   ]
  },
  {
   "cell_type": "code",
   "execution_count": 86,
   "metadata": {},
   "outputs": [
    {
     "name": "stdout",
     "output_type": "stream",
     "text": [
      "Attempting to download from: https://github.com/entbappy/Branching-tutorial/raw/master/winequality-data.zip\n",
      "Successfully downloaded from: https://github.com/entbappy/Branching-tutorial/raw/master/winequality-data.zip\n"
     ]
    }
   ],
   "source": [
    "import requests\n",
    "\n",
    "urls = [\n",
    "    'https://github.com/entbappy/Branching-tutorial/raw/master/winequality-data.zip'\n",
    "    # Add other URLs here\n",
    "]\n",
    "\n",
    "for url in urls:\n",
    "    print(f\"Attempting to download from: {url}\")\n",
    "    try:\n",
    "        response = requests.get(url)\n",
    "        response.raise_for_status()  # This will raise an error for HTTP errors\n",
    "        print(f\"Successfully downloaded from: {url}\")\n",
    "        # Optionally, save the file here\n",
    "    except requests.exceptions.HTTPError as http_err:\n",
    "        print(f\"HTTP error occurred: {http_err}\")  # e.g. 404 Not Found\n",
    "    except Exception as e:\n",
    "        print(f\"An error occurred: {e}\")\n"
   ]
  }
 ],
 "metadata": {
  "kernelspec": {
   "display_name": "Python 3",
   "language": "python",
   "name": "python3"
  },
  "language_info": {
   "codemirror_mode": {
    "name": "ipython",
    "version": 3
   },
   "file_extension": ".py",
   "mimetype": "text/x-python",
   "name": "python",
   "nbconvert_exporter": "python",
   "pygments_lexer": "ipython3",
   "version": "3.8.20"
  }
 },
 "nbformat": 4,
 "nbformat_minor": 2
}
